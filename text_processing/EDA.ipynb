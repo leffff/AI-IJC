{
 "nbformat": 4,
 "nbformat_minor": 0,
 "metadata": {
  "colab": {
   "name": "EDA.ipynb",
   "private_outputs": true,
   "provenance": [],
   "mount_file_id": "1TfXCOJFhpiDkWn4X-yMICqnEZYcNNWjH",
   "authorship_tag": "ABX9TyOpMcggLOLOPV63iRTLCosr"
  },
  "kernelspec": {
   "name": "python3",
   "display_name": "Python 3"
  },
  "language_info": {
   "name": "python"
  }
 },
 "cells": [
  {
   "cell_type": "markdown",
   "metadata": {
    "id": "BfjD-YDvl6kZ"
   },
   "source": [
    "# Data"
   ]
  },
  {
   "cell_type": "code",
   "metadata": {
    "id": "1IRZXEdLDc1n"
   },
   "source": [
    "import pandas as pd\n",
    "train_labeled = pd.read_csv('../Data_rus/labled_train_data.csv', index_col=0, sep=\"\\t\")\n",
    "comments_labeled = pd.read_csv('../Data_rus/labled_train_comments.csv', index_col=0, sep=\"\\t\")\n",
    "comments_unlabeled = pd.read_csv('../Data_rus/unlabled_train_comments.csv', index_col=0, sep=\"\\t\")\n",
    "test = pd.read_csv('../Data_rus/labled_test_data.csv', index_col=0, sep=\"\\t\")"
   ],
   "execution_count": null,
   "outputs": []
  },
  {
   "cell_type": "code",
   "metadata": {
    "id": "BJ8A0LRZnB-f"
   },
   "source": [
    "n = len(train_labeled)"
   ],
   "execution_count": null,
   "outputs": []
  },
  {
   "cell_type": "markdown",
   "metadata": {
    "id": "WQMNAp4RmtiB"
   },
   "source": [
    "# EDA"
   ]
  },
  {
   "cell_type": "markdown",
   "metadata": {
    "id": "L03G5bboqmQv"
   },
   "source": [
    "## Train"
   ]
  },
  {
   "cell_type": "code",
   "metadata": {
    "id": "R_LytUZkmuml"
   },
   "source": [
    "train_labeled.comment"
   ],
   "execution_count": null,
   "outputs": []
  },
  {
   "cell_type": "code",
   "metadata": {
    "id": "syUnZit3mvJN"
   },
   "source": [
    "null_comments = len(train_labeled[train_labeled.comment == \"Больше нечего сказать\"])\n",
    "senseless_somments = len(train_labeled[(train_labeled.comment == \"Да\") | (train_labeled.comment == \"Нет\")])\n",
    "\n",
    "print(null_comments / n, senseless_somments / n)"
   ],
   "execution_count": null,
   "outputs": []
  },
  {
   "cell_type": "code",
   "metadata": {
    "id": "ZfcQnF8QnMvH"
   },
   "source": [
    "clean_comments = train_labeled[[\"comment\", \"is_aggressive\"]][(train_labeled.comment != \"Больше нечего сказать\") & (train_labeled.comment != \"Да\")]\n",
    "clean_comments"
   ],
   "execution_count": null,
   "outputs": []
  },
  {
   "cell_type": "code",
   "metadata": {
    "id": "FO9KlO52nkNS"
   },
   "source": [
    "from wordcloud import WordCloud\n",
    "import matplotlib.pyplot as plt\n",
    "\n",
    "comments = \" \".join(list(clean_comments.comment))\n",
    "\n",
    "wordcloud = WordCloud(max_font_size=40).generate(comments)\n",
    "plt.figure(figsize=(12, 16))\n",
    "plt.imshow(wordcloud, interpolation=\"bilinear\")\n",
    "plt.axis(\"off\")\n",
    "plt.show()"
   ],
   "execution_count": null,
   "outputs": []
  },
  {
   "cell_type": "code",
   "metadata": {
    "id": "vaXz5tFMpI1E"
   },
   "source": [
    "for comment in clean_comments.comment:\n",
    "    print(comment)"
   ],
   "execution_count": null,
   "outputs": []
  },
  {
   "cell_type": "markdown",
   "metadata": {
    "id": "lXETTBpSqqJM"
   },
   "source": [
    "## Test"
   ]
  },
  {
   "cell_type": "code",
   "metadata": {
    "id": "GxoR6AGerqVA"
   },
   "source": [
    "test_n = len(test)"
   ],
   "execution_count": null,
   "outputs": []
  },
  {
   "cell_type": "code",
   "metadata": {
    "id": "qGuXuPmQriTO"
   },
   "source": [
    "test.comment"
   ],
   "execution_count": null,
   "outputs": []
  },
  {
   "cell_type": "code",
   "metadata": {
    "id": "GyheCqi8riTQ"
   },
   "source": [
    "test_null_comments = len(test[test.comment == \"Больше нечего сказать\"])\n",
    "test_senseless_somments = len(test[(test.comment == \"Да\") | (test.comment == \"Нет\")])\n",
    "\n",
    "print(test_null_comments / test_n, test_senseless_somments / test_n)"
   ],
   "execution_count": null,
   "outputs": []
  },
  {
   "cell_type": "code",
   "metadata": {
    "id": "hwtxOD_briTR"
   },
   "source": [
    "test_clean_comments = test[[\"comment\"]][(test.comment != \"Больше нечего сказать\") & (test.comment != \"Да\")]\n",
    "test_clean_comments"
   ],
   "execution_count": null,
   "outputs": []
  },
  {
   "cell_type": "code",
   "metadata": {
    "id": "YExDR5AdriTR"
   },
   "source": [
    "from wordcloud import WordCloud\n",
    "import matplotlib.pyplot as plt\n",
    "\n",
    "test_comments = \" \".join(list(clean_comments.comment))\n",
    "\n",
    "testwordcloud = WordCloud(max_font_size=40).generate(test_comments)\n",
    "plt.figure(figsize=(12, 16))\n",
    "plt.imshow(testwordcloud, interpolation=\"bilinear\")\n",
    "plt.axis(\"off\")\n",
    "plt.show()"
   ],
   "execution_count": null,
   "outputs": []
  },
  {
   "cell_type": "code",
   "metadata": {
    "id": "MY2NDDu6riTR"
   },
   "source": [
    "for comment in test_clean_comments.comment:\n",
    "    print(comment)"
   ],
   "execution_count": null,
   "outputs": []
  }
 ]
}