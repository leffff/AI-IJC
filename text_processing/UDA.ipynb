{
 "nbformat": 4,
 "nbformat_minor": 0,
 "metadata": {
  "colab": {
   "name": "UDA",
   "private_outputs": true,
   "provenance": [],
   "collapsed_sections": [
    "kZpCQrmpAhGn",
    "9od7X4W8A2_i",
    "z3BYqJ2foRdm"
   ],
   "toc_visible": true
  },
  "kernelspec": {
   "name": "python3",
   "display_name": "Python 3"
  },
  "language_info": {
   "name": "python"
  },
  "accelerator": "GPU"
 },
 "cells": [
  {
   "cell_type": "markdown",
   "metadata": {
    "id": "19cUlLdADbGh"
   },
   "source": [
    "# Settings"
   ]
  },
  {
   "cell_type": "code",
   "metadata": {
    "id": "aU0IQcyzDROj"
   },
   "source": [
    "import pandas as pd\n",
    "import numpy as np\n",
    "\n",
    "import warnings\n",
    "warnings.filterwarnings(\"ignore\")"
   ],
   "execution_count": null,
   "outputs": []
  },
  {
   "cell_type": "code",
   "metadata": {
    "id": "ex_9C2WBcuVU"
   },
   "source": [
    "import torch\n",
    "from torch import nn\n",
    "\n",
    "# If there's a GPU available...\n",
    "if torch.cuda.is_available():    \n",
    "\n",
    "    # Tell PyTorch to use the GPU.    \n",
    "    device = torch.device(\"cuda\")\n",
    "\n",
    "    print('There are %d GPU(s) available.' % torch.cuda.device_count())\n",
    "\n",
    "    print('We will use the GPU:', torch.cuda.get_device_name(0))\n",
    "\n",
    "# If not...\n",
    "else:\n",
    "    print('No GPU available, using the CPU instead.')\n",
    "    device = torch.device(\"cpu\")"
   ],
   "execution_count": null,
   "outputs": []
  },
  {
   "cell_type": "markdown",
   "metadata": {
    "id": "qq6ySmJyDhar"
   },
   "source": [
    "# Data"
   ]
  },
  {
   "cell_type": "code",
   "metadata": {
    "id": "YbLyVgRAmorI"
   },
   "source": [
    "from google.colab import drive\n",
    "drive.mount('/content/drive')"
   ],
   "execution_count": null,
   "outputs": []
  },
  {
   "cell_type": "code",
   "metadata": {
    "id": "tzdV8P_qsueC"
   },
   "source": [
    "labeled_comments = pd.read_csv('/Data/labeled_comments.csv')\n",
    "ori_comments = pd.read_csv('Data/ori_comments.csv')\n",
    "labeled_comments"
   ],
   "execution_count": null,
   "outputs": []
  },
  {
   "cell_type": "code",
   "metadata": {
    "id": "FLMlHzBFtF07"
   },
   "source": [
    "import os\n",
    "\n",
    "aug_comments = []\n",
    "dir_name = \"Data/\"\n",
    "\n",
    "unlister = lambda x: x[0]\n",
    "\n",
    "for file in os.listdir(dir_name):\n",
    "    if \"aug\" in file:\n",
    "      dataset = list(map(unlister, list(map(eval, list(pd.read_csv(dir_name + file)[\"comment\"])))))\n",
    "      aug_comments.extend(dataset)"
   ],
   "execution_count": null,
   "outputs": []
  },
  {
   "cell_type": "markdown",
   "metadata": {
    "id": "kZpCQrmpAhGn"
   },
   "source": [
    "# Preprocessing"
   ]
  },
  {
   "cell_type": "code",
   "metadata": {
    "id": "lkbsaDboWDin"
   },
   "source": [
    "!pip install transformers\n",
    "!pip install sentencepiece\n",
    "import sentencepiece\n",
    "from transformers import AutoTokenizer\n",
    "\n",
    "tokenizer = AutoTokenizer.from_pretrained('sismetanin/xlm_roberta_base-ru-sentiment-rusentiment', do_lower_case=True)"
   ],
   "execution_count": null,
   "outputs": []
  },
  {
   "cell_type": "code",
   "metadata": {
    "id": "SXDZsA8ALkJO"
   },
   "source": [
    "tokenizer"
   ],
   "execution_count": null,
   "outputs": []
  },
  {
   "cell_type": "code",
   "metadata": {
    "id": "RE-k3r963elu"
   },
   "source": [
    "class Tokenizer:\n",
    "    def __init__(self,\n",
    "                 tokenizer,\n",
    "                 add_special_tokens=True,\n",
    "                 max_length=60,\n",
    "                 truncation=True,\n",
    "                 pad_to_max_length=True,\n",
    "                 return_attention_mask=True,\n",
    "                 return_tensors='pt'):\n",
    "\n",
    "        self.tokenizer = tokenizer\n",
    "        self.add_special_tokens = add_special_tokens\n",
    "        self.max_length = max_length\n",
    "        self.truncation = truncation\n",
    "        self.pad_to_max_length = pad_to_max_length\n",
    "        self.return_attention_mask = return_attention_mask\n",
    "        self.return_tensors = return_tensors\n",
    "\n",
    "    def tokenize(self, text: list) -> tuple:\n",
    "        input_ids = []\n",
    "        attention_masks = []\n",
    "        for row in text:\n",
    "            encoded_dict = self.tokenizer.encode_plus(\n",
    "                row,\n",
    "                add_special_tokens=self.add_special_tokens,\n",
    "                max_length=self.max_length,\n",
    "                truncation=self.truncation,\n",
    "                pad_to_max_length=self.pad_to_max_length,\n",
    "                return_attention_mask=self.return_attention_mask,\n",
    "                return_tensors=self.return_tensors,\n",
    "            )\n",
    "\n",
    "            input_ids.append(encoded_dict['input_ids'])\n",
    "\n",
    "            attention_masks.append(encoded_dict['attention_mask'])\n",
    "        return input_ids, attention_masks"
   ],
   "execution_count": null,
   "outputs": []
  },
  {
   "cell_type": "code",
   "metadata": {
    "id": "F16bjqZ_lNq7"
   },
   "source": [
    "preprocessor = Tokenizer(tokenizer=tokenizer)"
   ],
   "execution_count": null,
   "outputs": []
  },
  {
   "cell_type": "code",
   "metadata": {
    "id": "B--XcpDPfahk"
   },
   "source": [
    "from collections import Counter\n",
    "#changing labels\n",
    "labels = labeled_comments[\"is_aggressive\"]\n",
    "print(labels.value_counts())\n",
    "Counter(labels)"
   ],
   "execution_count": null,
   "outputs": []
  },
  {
   "cell_type": "code",
   "metadata": {
    "id": "10QA7D-ceU_7"
   },
   "source": [
    "labeled_input_ids, labeled_attention_masks = preprocessor.tokenize(list(labeled_comments.comment))\n",
    "\n",
    "labeled_input_ids = torch.cat(labeled_input_ids, dim=0)\n",
    "labeled_attention_masks = torch.cat(labeled_attention_masks, dim=0)\n",
    "labels = torch.tensor(list(map(int, labels.tolist())))"
   ],
   "execution_count": null,
   "outputs": []
  },
  {
   "cell_type": "code",
   "metadata": {
    "id": "tWpUO4xFWKpl"
   },
   "source": [
    "ori_input_ids, ori_attention_masks = preprocessor.tokenize(list(ori_comments.comment))\n",
    "\n",
    "ori_input_ids = torch.cat(ori_input_ids, dim=0)\n",
    "ori_attention_masks = torch.cat(ori_attention_masks, dim=0)"
   ],
   "execution_count": null,
   "outputs": []
  },
  {
   "cell_type": "code",
   "metadata": {
    "id": "eZSgIqvHyYjz"
   },
   "source": [
    "aug_input_ids, aug_attention_masks = preprocessor.tokenize(list(aug_comments))\n",
    "\n",
    "aug_input_ids = torch.cat(aug_input_ids, dim=0)\n",
    "aug_attention_masks = torch.cat(aug_attention_masks, dim=0)"
   ],
   "execution_count": null,
   "outputs": []
  },
  {
   "cell_type": "code",
   "metadata": {
    "id": "g6DJbCeUZZF3"
   },
   "source": [
    "import os\n",
    "import torch\n",
    "from torchvision import transforms\n",
    "from sklearn.model_selection import KFold, StratifiedKFold, TimeSeriesSplit\n",
    "from torch.utils.data import TensorDataset, random_split\n",
    "from torch.utils.data import DataLoader, RandomSampler, SequentialSampler"
   ],
   "execution_count": null,
   "outputs": []
  },
  {
   "cell_type": "markdown",
   "metadata": {
    "id": "9od7X4W8A2_i"
   },
   "source": [
    "# Metrics"
   ]
  },
  {
   "cell_type": "code",
   "metadata": {
    "id": "18zqHZVuBKSt"
   },
   "source": [
    "from sklearn.metrics import roc_auc_score, f1_score, balanced_accuracy_score"
   ],
   "execution_count": null,
   "outputs": []
  },
  {
   "cell_type": "code",
   "metadata": {
    "id": "e1ZLCu5gycIa"
   },
   "source": [
    "def flat_accuracy(labels, preds):\n",
    "    pred_flat = np.argmax(preds, axis=1).flatten()\n",
    "    labels_flat = labels.flatten()\n",
    "    return np.sum(labels_flat == pred_flat) / len(labels_flat)"
   ],
   "execution_count": null,
   "outputs": []
  },
  {
   "cell_type": "code",
   "metadata": {
    "id": "QIf4vd3bZKl3"
   },
   "source": [
    "def flat_roc_auc(labels, preds):\n",
    "    pred_flat = np.argmax(preds, axis=1).flatten()\n",
    "    labels_flat = labels.flatten()\n",
    "    return roc_auc_score(labels_flat, pred_flat)"
   ],
   "execution_count": null,
   "outputs": []
  },
  {
   "cell_type": "code",
   "metadata": {
    "id": "PwY8wZ0NjI7D"
   },
   "source": [
    "def proba_roc_auc(labels, preds):\n",
    "    softmax = torch.nn.Sigmoid()\n",
    "    preds_softmax = softmax(torch.from_numpy(preds)).numpy()\n",
    "    labels_flat = labels.flatten()\n",
    "    print(labels_flat.shape, preds_softmax.shape)\n",
    "    return roc_auc_score(labels_flat, preds_softmax[:, 1])"
   ],
   "execution_count": null,
   "outputs": []
  },
  {
   "cell_type": "code",
   "metadata": {
    "id": "VnuS7SGq4spT"
   },
   "source": [
    "def flat_f1(labels, preds):\n",
    "    pred_flat = np.argmax(preds, axis=1).flatten()\n",
    "    labels_flat = labels.flatten()\n",
    "    return f1_score(labels_flat, pred_flat)"
   ],
   "execution_count": null,
   "outputs": []
  },
  {
   "cell_type": "code",
   "metadata": {
    "id": "K3LR20ts5EoC"
   },
   "source": [
    "def flat_balanced_accuracy(labels, preds):\n",
    "    pred_flat = np.argmax(preds, axis=1).flatten()\n",
    "    labels_flat = labels.flatten()\n",
    "    return balanced_accuracy_score(labels_flat, pred_flat)"
   ],
   "execution_count": null,
   "outputs": []
  },
  {
   "cell_type": "code",
   "metadata": {
    "id": "PKand93fydzj"
   },
   "source": [
    "import time\n",
    "import datetime\n",
    "\n",
    "def format_time(elapsed):\n",
    "    '''\n",
    "    Takes a time in seconds and returns a string hh:mm:ss\n",
    "    '''\n",
    "    # Round to the nearest second.\n",
    "    elapsed_rounded = int(round((elapsed)))\n",
    "    \n",
    "    # Format as hh:mm:ss\n",
    "    return str(datetime.timedelta(seconds=elapsed_rounded))\n"
   ],
   "execution_count": null,
   "outputs": []
  },
  {
   "cell_type": "markdown",
   "metadata": {
    "id": "5Ep2jWkq5GMz"
   },
   "source": [
    "https://www.youtube.com/watch?v=-u8Mi57BDIY </br>\n",
    "https://arxiv.org/pdf/1904.12848.pdf\n"
   ]
  },
  {
   "cell_type": "markdown",
   "metadata": {
    "id": "z3BYqJ2foRdm"
   },
   "source": [
    "# Models"
   ]
  },
  {
   "cell_type": "code",
   "metadata": {
    "id": "SFaN7MctI0j1"
   },
   "source": [
    "from transformers import AutoModel, AutoModelForSequenceClassification, BertForSequenceClassification, AutoConfig\n",
    "import torch.nn as nn\n",
    "from torch.optim import AdamW"
   ],
   "execution_count": null,
   "outputs": []
  },
  {
   "cell_type": "markdown",
   "metadata": {
    "id": "0ISrNM27HwWu"
   },
   "source": [
    "## XLM-Roberta base"
   ]
  },
  {
   "cell_type": "code",
   "metadata": {
    "id": "tLuPfF3xoQay"
   },
   "source": [
    "class XLMRobertaBaseClassifier(nn.Module):\n",
    "    def __init__(self):\n",
    "        super(XLMRobertaBaseClassifier, self).__init__()\n",
    "        self.base_model = AutoModel.from_pretrained('sismetanin/xlm_roberta_base-ru-sentiment-rusentiment')\n",
    "        self.Linear = nn.Linear(768, 2)\n",
    "        \n",
    "    def forward(self, input_ids, token_type_ids, attention_mask):\n",
    "        outputs = self.base_model(input_ids, token_type_ids=token_type_ids, attention_mask=attention_mask).pooler_output\n",
    "        outputs = self.Linear(outputs)\n",
    "\n",
    "        return outputs\n"
   ],
   "execution_count": null,
   "outputs": []
  },
  {
   "cell_type": "markdown",
   "metadata": {
    "id": "GR0-JUKd35LU"
   },
   "source": [
    "#UDA"
   ]
  },
  {
   "cell_type": "markdown",
   "metadata": {
    "id": "e4kz-8cRH_ae"
   },
   "source": [
    "To utilize unlabeld data we are going to perform an Unsupervised data augmentation technique. </br>\n",
    "In this soluton </br>\n",
    "` labeled` objects are samples form the training labeled set</br>\n",
    "`ori` objects are original unlabeled samples</br>\n",
    "`aug` objects are back translated unlabeled samples</br>\n",
    "\n",
    "</br>\n",
    "[Original pytorch UDA repository](https://github.com/SanghunYun/UDA_pytorch)\n",
    "\n"
   ]
  },
  {
   "cell_type": "markdown",
   "metadata": {
    "id": "LYa4jBBDRKMx"
   },
   "source": [
    "![2019-08-21-18-01-07.png](data:image/png;base64,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)"
   ]
  },
  {
   "cell_type": "code",
   "metadata": {
    "id": "OKUm1lDGofbA"
   },
   "source": [
    "class UnsupervisesConsistencyLoss(object):\n",
    "    def __init__(self, uda_coef, total_steps, softmax_temp, uda_confidence_thresh): \n",
    "        self.supervised_loss = nn.CrossEntropyLoss(reduction='none')\n",
    "        self.unsupervised_loss = nn.KLDivLoss(reduction='none')\n",
    "\n",
    "        self.uda_coef = uda_coef\n",
    "        self.total_steps = total_steps\n",
    "        self.softmax_temp = softmax_temp\n",
    "        self.uda_confidence_thresh = uda_confidence_thresh\n",
    "\n",
    "        self.softmax = nn.Softmax(dim=-1)\n",
    "        self.log_softmax = nn.LogSoftmax(dim=-1)\n",
    "\n",
    "    \n",
    "    def __call__(self, logits: torch.Tensor, target: torch.Tensor, ori_preds: torch.Tensor, global_step: int) -> torch.Tensor:\n",
    "        sup_size = target.shape[0]  \n",
    "        \n",
    "        sup_loss = self.supervised_loss(logits[:sup_size], target)  # shape : train_batch_size\n",
    "\n",
    "        ori_prob = self.softmax(ori_preds)\n",
    "\n",
    "        if self.uda_confidence_thresh != -1:\n",
    "            unsup_loss_mask = torch.max(ori_prob, dim=-1)[0] > self.uda_confidence_thresh\n",
    "            unsup_loss_mask = unsup_loss_mask.type(torch.float32)\n",
    "        else:\n",
    "            unsup_loss_mask = torch.ones(len(logits) - sup_size, dtype=torch.float32)\n",
    "        unsup_loss_mask = unsup_loss_mask.to(device)\n",
    "\n",
    "        softmax_temp = self.softmax_temp if self.softmax_temp > 0 else 1.\n",
    "        aug_log_prob = self.log_softmax(logits[sup_size:] / softmax_temp)\n",
    "\n",
    "        unsup_loss = torch.sum(self.unsupervised_loss(aug_log_prob, ori_prob), dim=-1)\n",
    "        unsup_loss = torch.sum(unsup_loss * unsup_loss_mask, dim=-1) / torch.max(torch.sum(unsup_loss_mask, dim=-1))\n",
    "        final_loss = sup_loss + self.uda_coef * unsup_loss\n",
    "        return  final_loss\n"
   ],
   "execution_count": null,
   "outputs": []
  },
  {
   "cell_type": "code",
   "metadata": {
    "id": "4BMsH1gI358g"
   },
   "source": [
    "from math import ceil\n",
    "from transformers import get_linear_schedule_with_warmup\n",
    "from itertools import cycle\n",
    "\n",
    "\n",
    "class SemiSupervisedModel(object):\n",
    "    def __init__(self, model, optimizer, loss, device, verbose):\n",
    "        self.model = model\n",
    "        self.optimizer = optimizer\n",
    "        self.device = device\n",
    "        self.verbose = verbose\n",
    "\n",
    "    def fit(self,  sup_dataset, labels, ori_unsup_dataset, uda_unsup_dataset, loss, epochs, sup_batch_size):\n",
    "        self.loss = loss\n",
    "        n_sup_batches = ceil(len(sup_dataset) / sup_batch_size)\n",
    "        unsup_batch_size = int(len(ori_unsup_dataset) / n_sup_batches)\n",
    "\n",
    "        self.sup_batch_size = sup_batch_size\n",
    "        sup_dataloader = torch.utils.data.DataLoader(\n",
    "                    labeled_dataset, \n",
    "                    batch_size=sup_batch_size)\n",
    "        \n",
    "        ori_unsup_dataloader = torch.utils.data.DataLoader(\n",
    "                    ori_unsup_dataset, \n",
    "                    batch_size=unsup_batch_size)\n",
    "        \n",
    "        uda_unsup_dataloader = torch.utils.data.DataLoader(\n",
    "                    uda_unsup_dataset, \n",
    "                    batch_size=unsup_batch_size)\n",
    "        print(len(sup_dataloader), len(ori_unsup_dataloader))\n",
    "\n",
    "        total_steps = len(sup_dataloader) * epochs\n",
    "        self.scheduler = get_linear_schedule_with_warmup(self.optimizer,\n",
    "                                                    num_warmup_steps = 0, # Default value in run_glue.py\n",
    "                                                    num_training_steps = total_steps)\n",
    "\n",
    "        for epoch_i in range(1, epochs + 1):\n",
    "            avg_train_loss = self.train_epoch(sup_dataloader, labels, ori_unsup_dataloader, uda_unsup_dataloader)\n",
    "            print(f\"Epoch {epoch_i}: {avg_train_loss}\")\n",
    "            self.save_model(f\"base_models/uda_xlm_roberta_base_{epoch_i}_epochs.h5\")\n",
    "\n",
    "    def train_epoch(self, sup_dataloader, labels, ori_unsup_dataloader, uda_unsup_dataloader):\n",
    "        total_train_loss = 0\n",
    "        self.model.train()\n",
    "        for step, batch in enumerate(zip(cycle(sup_dataloader), ori_unsup_dataloader, uda_unsup_dataloader)):\n",
    "\n",
    "            if step % self.verbose == 0 and not step == 0:\n",
    "                print('  Batch {:>5,}  of  {:>5,}.'.format(step, len(sup_dataloader)))\n",
    "\n",
    "            input_ids = batch[0][0].to(self.device)\n",
    "            attention_mask = batch[0][1].to(self.device)\n",
    "            labels = batch[0][2].to(self.device)\n",
    "\n",
    "            ori_input_ids = batch[1][0].to(self.device)\n",
    "            ori_attention_mask = batch[1][1].to(self.device)\n",
    "\n",
    "            uda_input_ids = batch[2][0].to(self.device)\n",
    "            uda_attention_mask = batch[2][1].to(self.device)\n",
    "\n",
    "            input_ids = torch.cat((input_ids, uda_input_ids), dim=0)\n",
    "            input_mask = torch.cat((attention_mask, uda_attention_mask), dim=0)\n",
    "\n",
    "            self.optimizer.zero_grad()\n",
    "            logits = self.predict(input_ids, attention_mask=input_mask, train=True)\n",
    "            ori_logits = self.predict(input_ids=ori_input_ids, attention_mask=ori_attention_mask, train=False)\n",
    "\n",
    "            loss = self.loss(logits, labels, ori_logits, step)\n",
    "\n",
    "            total_train_loss += loss.item()\n",
    "            loss.backward()\n",
    "\n",
    "            nn.utils.clip_grad_norm_(self.model.parameters(), 1.0)\n",
    "            self.optimizer.step()\n",
    "            self.scheduler.step()\n",
    "\n",
    "        avg_train_loss = total_train_loss / len(labeled_dataset)\n",
    "        return avg_train_loss\n",
    "    \n",
    "    def save_model(self, name):\n",
    "        torch.save(self.model.state_dict(), name)\n",
    "\n",
    "    def predict(self, input_ids, attention_mask, train):\n",
    "        if train:\n",
    "            self.model.train()\n",
    "        else:\n",
    "            self.model.eval()\n",
    "\n",
    "        predictions = []\n",
    "        pred_dataset = TensorDataset(input_ids, attention_mask)\n",
    "        pred_dataloader = torch.utils.data.DataLoader(\n",
    "                    pred_dataset, \n",
    "                    batch_size=self.sup_batch_size)\n",
    "        # print(len(pred_dataloader), self.sup_batch_size, self.sup_batch_size * len(pred_dataloader))\n",
    "\n",
    "        for step, batch in enumerate(pred_dataloader):\n",
    "            b_input_ids = batch[0].to(self.device)\n",
    "            b_input_mask = batch[1].to(self.device)\n",
    "\n",
    "            if train:\n",
    "                    output = self.model(b_input_ids,\n",
    "                                        token_type_ids=None,\n",
    "                                        attention_mask=b_input_mask)\n",
    "            else:\n",
    "                with torch.no_grad():\n",
    "                    output = self.model(b_input_ids,\n",
    "                                        token_type_ids=None,\n",
    "                                        attention_mask=b_input_mask)\n",
    "                \n",
    "            predictions.append(output)\n",
    "        preds = torch.cat(predictions, dim=0)\n",
    "        return preds"
   ],
   "execution_count": null,
   "outputs": []
  },
  {
   "cell_type": "code",
   "metadata": {
    "id": "IN9_ypTimk_a"
   },
   "source": [
    "base_model = XLMRobertaBaseClassifier()\n",
    "base_model.to(device)\n",
    "print()"
   ],
   "execution_count": null,
   "outputs": []
  },
  {
   "cell_type": "code",
   "metadata": {
    "id": "0Ilhn4S-xJmk"
   },
   "source": [
    "labeled_dataset = TensorDataset(labeled_input_ids, labeled_attention_masks, labels)\n",
    "ori_dataset = TensorDataset(ori_input_ids, ori_attention_masks)\n",
    "aug_dataset = TensorDataset(aug_input_ids, aug_attention_masks)"
   ],
   "execution_count": null,
   "outputs": []
  },
  {
   "cell_type": "code",
   "metadata": {
    "id": "RpNUsCyrY6qW"
   },
   "source": [
    "optimizer = AdamW(base_model.parameters(),\n",
    "                  lr = 1e-5, # args.learning_rate - default is 5e-5, our notebook had 2e-5\n",
    "                  eps = 1e-8 # args.adam_epsilon  - default is 1e-8.\n",
    "            )\n",
    "batch_size = 1\n",
    "loss = UnsupervisesConsistencyLoss(10, total_steps=ceil(len(labeled_dataset) /  batch_size), softmax_temp=0.9, uda_confidence_thresh=-1)\n",
    "device = device\n",
    "verbose = 50"
   ],
   "execution_count": null,
   "outputs": []
  },
  {
   "cell_type": "code",
   "metadata": {
    "id": "krvmXzsdaEbp"
   },
   "source": [
    "model = SemiSupervisedModel(base_model, optimizer, loss, device, verbose)\n",
    "model.fit(sup_dataset=labeled_dataset, labels=labels, ori_unsup_dataset=ori_dataset, uda_unsup_dataset=aug_dataset, loss=loss, epochs=3, sup_batch_size=batch_size)"
   ],
   "execution_count": null,
   "outputs": []
  },
  {
   "cell_type": "markdown",
   "metadata": {
    "id": "F7aWW6t9hJq2"
   },
   "source": [
    "# Test Prediction"
   ]
  },
  {
   "cell_type": "code",
   "metadata": {
    "id": "OdsKZGf1h5MW"
   },
   "source": [
    "import pandas as pd\n",
    "test = pd.read_csv('../Data_rus/labled_test_data.csv', index_col=0, sep=\"\\t\")"
   ],
   "execution_count": null,
   "outputs": []
  },
  {
   "cell_type": "markdown",
   "metadata": {
    "id": "oYGcdtBoNrl4"
   },
   "source": [
    "## Tokenize"
   ]
  },
  {
   "cell_type": "code",
   "metadata": {
    "id": "VxHdKJB2mQGp"
   },
   "source": [
    "!pip install transformers\n",
    "!pip install sentencepiece\n",
    "import sentencepiece\n",
    "from transformers import AutoTokenizer\n",
    "import string\n",
    "\n",
    "tokenizer = AutoTokenizer.from_pretrained('sismetanin/xlm_roberta_base-ru-sentiment-rusentiment', do_lower_case=True)"
   ],
   "execution_count": null,
   "outputs": []
  },
  {
   "cell_type": "code",
   "metadata": {
    "id": "ih7NePmWQFA3"
   },
   "source": [
    "import string\n",
    "punktuation = list(string.punctuation)\n",
    "custom_punkt = [\"\\t\", \")\", \"(\"]\n",
    "punktuation.extend(custom_punkt)\n",
    "\n",
    "end_punktuation = [\"!\", \".\", \"?\", \"\\n\"]"
   ],
   "execution_count": null,
   "outputs": []
  },
  {
   "cell_type": "code",
   "metadata": {
    "id": "Rd4iSG2hG292"
   },
   "source": [
    "class Preprocessor:\n",
    "    def __init__(self, \n",
    "                 tokenizer, \n",
    "                 punktuation, \n",
    "                 end_punktuation,\n",
    "                 add_special_tokens=True, \n",
    "                 max_length=60, \n",
    "                 truncation=True, \n",
    "                 pad_to_max_length=True, \n",
    "                 return_attention_mask=True, \n",
    "                 return_tensors='pt'):\n",
    "      \n",
    "      self.punkt = set(punktuation)\n",
    "      self.end_punkt = set(end_punktuation)\n",
    "      self.punkt = self.punkt  -  self.end_punkt\n",
    "\n",
    "      self.punkt = punktuation\n",
    "      self.tokenizer = tokenizer\n",
    "      self.add_special_tokens = add_special_tokens\n",
    "      self.max_length = max_length\n",
    "      self.truncation = truncation\n",
    "      self.pad_to_max_length = pad_to_max_length\n",
    "      self.return_attention_mask = return_attention_mask\n",
    "      self.return_tensors = return_tensors\n",
    "\n",
    "    def remove_punkt(self, text: str) -> str:\n",
    "        for punc in self.punkt:\n",
    "            if punc in text:\n",
    "                text = text.replace(punc, ' ')\n",
    "        text = \" \".join(text.split())\n",
    "        return text.strip()\n",
    "\n",
    "    def replace_end_punkt(self, text: str) -> str:\n",
    "        for punc in self.end_punkt:\n",
    "            if punc in text:\n",
    "                text = text.replace(punc, '.')\n",
    "        split_text = text.split(\".\")\n",
    "        clean_text = [i for i in split_text if i != \"\"]\n",
    "        text = \" [SEP] \".join(clean_text)\n",
    "        return text\n",
    "\n",
    "    def preprocess(self, text: list) -> list:\n",
    "        no_punkt_text = list(map(self.remove_punkt, text))\n",
    "        sep_text = list(map(self.replace_end_punkt, no_punkt_text))\n",
    "        input_ids, attention_masks = self.tokenize(sep_text)\n",
    "        return input_ids, attention_masks\n",
    "\n",
    "    def tokenize(self, text: list) -> tuple:\n",
    "        input_ids = []\n",
    "        attention_masks = []\n",
    "        for row in text:\n",
    "            encoded_dict = self.tokenizer.encode_plus(\n",
    "                                row,                  \n",
    "                                add_special_tokens = self.add_special_tokens,\n",
    "                                max_length = self.max_length,           \n",
    "                                truncation=self.truncation,\n",
    "                                pad_to_max_length = self.pad_to_max_length,\n",
    "                                return_attention_mask = self.return_attention_mask,\n",
    "                                return_tensors = self.return_tensors, \n",
    "                          )\n",
    "            \n",
    "            input_ids.append(encoded_dict['input_ids'])\n",
    "            \n",
    "            attention_masks.append(encoded_dict['attention_mask'])\n",
    "        return input_ids, attention_masks\n"
   ],
   "execution_count": null,
   "outputs": []
  },
  {
   "cell_type": "code",
   "metadata": {
    "id": "EbAaxBAxmQGs"
   },
   "source": [
    "preprocessor = Preprocessor(tokenizer=tokenizer, punktuation=punktuation, end_punktuation=end_punktuation)"
   ],
   "execution_count": null,
   "outputs": []
  },
  {
   "cell_type": "code",
   "metadata": {
    "id": "P-1Jt50vmQGt"
   },
   "source": [
    "import torch\n",
    "input_ids, attention_masks = preprocessor.preprocess(list(test.comment))\n",
    "\n",
    "input_ids = torch.cat(input_ids, dim=0)\n",
    "attention_masks = torch.cat(attention_masks, dim=0)"
   ],
   "execution_count": null,
   "outputs": []
  },
  {
   "cell_type": "code",
   "metadata": {
    "id": "y4WsqOnBmQGu"
   },
   "source": [
    "import os\n",
    "import torch\n",
    "from torchvision import transforms\n",
    "from sklearn.model_selection import KFold, StratifiedKFold, TimeSeriesSplit\n",
    "from torch.utils.data import TensorDataset, random_split\n",
    "from torch.utils.data import DataLoader, RandomSampler, SequentialSampler"
   ],
   "execution_count": null,
   "outputs": []
  },
  {
   "cell_type": "code",
   "metadata": {
    "id": "LTyUUYNFb5un"
   },
   "source": [
    "dataset = TensorDataset(input_ids, attention_masks)\n",
    "dataset[[1, 2]]"
   ],
   "execution_count": null,
   "outputs": []
  },
  {
   "cell_type": "markdown",
   "metadata": {
    "id": "8qHII5O3h9Hl"
   },
   "source": [
    "## Model"
   ]
  },
  {
   "cell_type": "code",
   "metadata": {
    "id": "hPpGBMaxh9Hk"
   },
   "source": [
    "from transformers import AutoModel, AutoModelForSequenceClassification, BertForSequenceClassification, AutoConfig\n",
    "import torch.nn as nn\n",
    "from torch.optim import AdamW"
   ],
   "execution_count": null,
   "outputs": []
  },
  {
   "cell_type": "code",
   "metadata": {
    "id": "JRZFeBOuh9Hm"
   },
   "source": [
    "class XLMRobertaBaseClassifier(nn.Module):\n",
    "    def __init__(self):\n",
    "        super(XLMRobertaBaseClassifier, self).__init__()\n",
    "        self.base_model = AutoModel.from_pretrained('sismetanin/xlm_roberta_base-ru-sentiment-rusentiment')\n",
    "        self.Linear = nn.Linear(768, 2)\n",
    "        \n",
    "    def forward(self, input_ids, token_type_ids, attention_mask):\n",
    "        outputs = self.base_model(input_ids, token_type_ids=token_type_ids, attention_mask=attention_mask).pooler_output\n",
    "        outputs = self.Linear(outputs)\n",
    "\n",
    "        return outputs\n"
   ],
   "execution_count": null,
   "outputs": []
  },
  {
   "cell_type": "code",
   "metadata": {
    "id": "UpbPUzlgndzb"
   },
   "source": [
    "model = XLMRobertaBaseClassifier()\n",
    "model.load_state_dict(torch.load(\"base_models/uda_xlm_roberta_base_3_epochs.h5\"))"
   ],
   "execution_count": null,
   "outputs": []
  },
  {
   "cell_type": "code",
   "metadata": {
    "id": "NeGDwjhxoGzD"
   },
   "source": [
    "model.to(device)"
   ],
   "execution_count": null,
   "outputs": []
  },
  {
   "cell_type": "markdown",
   "metadata": {
    "id": "C9zm6LaRh-Wz"
   },
   "source": [
    "## Predict"
   ]
  },
  {
   "cell_type": "code",
   "metadata": {
    "id": "XTMeVIrbn69i"
   },
   "source": [
    "dataloader = torch.utils.data.DataLoader(\n",
    "                    dataset, \n",
    "                    batch_size=8)"
   ],
   "execution_count": null,
   "outputs": []
  },
  {
   "cell_type": "code",
   "metadata": {
    "id": "Pb0jQwcCwu0t"
   },
   "source": [
    "def predict(model, dataloader):\n",
    "\n",
    "    model.eval()\n",
    "\n",
    "    predictions = []\n",
    "\n",
    "    for step, batch in enumerate(dataloader):\n",
    "        b_input_ids = batch[0].to(device)\n",
    "        b_input_mask = batch[1].to(device)\n",
    "\n",
    "        with torch.no_grad():\n",
    "            output = model(b_input_ids,\n",
    "                                token_type_ids=None,\n",
    "                                attention_mask=b_input_mask)\n",
    "            \n",
    "        predictions.append(output)\n",
    "    preds = torch.cat(predictions, dim=0)\n",
    "    return preds"
   ],
   "execution_count": null,
   "outputs": []
  },
  {
   "cell_type": "code",
   "metadata": {
    "id": "bLEFRLdXoOSf"
   },
   "source": [
    "preds = predict(model, dataloader)"
   ],
   "execution_count": null,
   "outputs": []
  },
  {
   "cell_type": "code",
   "metadata": {
    "id": "0Y0atL1QoUSu"
   },
   "source": [
    "from torch.nn import Sigmoid\n",
    "sigmoid = Sigmoid()\n",
    "preds_proba = sigmoid(preds[:, -1])"
   ],
   "execution_count": null,
   "outputs": []
  },
  {
   "cell_type": "code",
   "metadata": {
    "id": "OWcDahako0j9"
   },
   "source": [
    "preds_proba"
   ],
   "execution_count": null,
   "outputs": []
  },
  {
   "cell_type": "code",
   "metadata": {
    "id": "1r-Xowyj0sq3",
    "pycharm": {
     "name": "#%%\n"
    }
   },
   "source": [
    "preds = pd.DataFrame({\"is_aggressive\": preds_proba.cpu()})\n",
    "preds.index = [i for i in range(len(preds_proba))]\n",
    "preds.to_csv(\"pretictions.csv\")"
   ],
   "execution_count": null,
   "outputs": []
  }
 ]
}